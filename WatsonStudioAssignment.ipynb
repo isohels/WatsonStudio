{
    "cells": [
        {
            "cell_type": "markdown",
            "metadata": {
                "collapsed": true
            },
            "source": "# My Jupyter Notebook on IBM Watson Studio"
        },
        {
            "cell_type": "markdown",
            "metadata": {},
            "source": "__Yadvendar Singh__\n  \n  Student\n"
        },
        {
            "cell_type": "markdown",
            "metadata": {},
            "source": "1. *I like Data Science because it's a combination of mathematics, statistics, probability, computer science, etc.*\n3. *I like to explore datasets, Data preprocessing and visualization are two parts which are more intriguing to me.*"
        },
        {
            "cell_type": "markdown",
            "metadata": {},
            "source": "<h3>I'm going to make a function which takes a number and tell whether it's prime or not.</h3>\n - This is brute force approach"
        },
        {
            "cell_type": "code",
            "execution_count": 7,
            "metadata": {},
            "outputs": [],
            "source": "def isprime(n):\n    \n    if(n<=1):\n        return(\"Smallest prime number is 2.\")\n    else:\n        for i in range(2,n):\n            if(n%i==0):\n                return(\"Not Prime\")\n        else:\n            return(\"Prime\")    "
        },
        {
            "cell_type": "code",
            "execution_count": 14,
            "metadata": {},
            "outputs": [
                {
                    "name": "stdout",
                    "output_type": "stream",
                    "text": "Please enter number: 7\n"
                },
                {
                    "data": {
                        "text/plain": "'Prime'"
                    },
                    "execution_count": 14,
                    "metadata": {},
                    "output_type": "execute_result"
                }
            ],
            "source": "isprime(int(input(\"Please enter number: \")))"
        },
        {
            "cell_type": "code",
            "execution_count": 15,
            "metadata": {},
            "outputs": [
                {
                    "name": "stdout",
                    "output_type": "stream",
                    "text": "Please enter number: 9\n"
                },
                {
                    "data": {
                        "text/plain": "'Not Prime'"
                    },
                    "execution_count": 15,
                    "metadata": {},
                    "output_type": "execute_result"
                }
            ],
            "source": "isprime(int(input(\"Please enter number: \")))"
        },
        {
            "cell_type": "code",
            "execution_count": 16,
            "metadata": {},
            "outputs": [
                {
                    "name": "stdout",
                    "output_type": "stream",
                    "text": "Please enter number: 97\n"
                },
                {
                    "data": {
                        "text/plain": "'Prime'"
                    },
                    "execution_count": 16,
                    "metadata": {},
                    "output_type": "execute_result"
                }
            ],
            "source": "isprime(int(input(\"Please enter number: \")))"
        },
        {
            "cell_type": "code",
            "execution_count": 17,
            "metadata": {},
            "outputs": [
                {
                    "name": "stdout",
                    "output_type": "stream",
                    "text": "Please enter number: 1\n"
                },
                {
                    "data": {
                        "text/plain": "'Smallest prime number is 2.'"
                    },
                    "execution_count": 17,
                    "metadata": {},
                    "output_type": "execute_result"
                }
            ],
            "source": "isprime(int(input(\"Please enter number: \")))"
        },
        {
            "cell_type": "markdown",
            "metadata": {},
            "source": "~~1 is not a prime number.~~\n1. You can reduce the complexity by only going till square root of n.\n - first calculate the sqaure root.\n - Now divide the number till the square root value\n2. This will decrease the complexity from n to sqrt(n)\n\n[Please check WatsonStudioAssignment file](https://github.com/isohels/WatsonStudio)"
        }
    ],
    "metadata": {
        "kernelspec": {
            "display_name": "Python 3.6",
            "language": "python",
            "name": "python3"
        },
        "language_info": {
            "codemirror_mode": {
                "name": "ipython",
                "version": 3
            },
            "file_extension": ".py",
            "mimetype": "text/x-python",
            "name": "python",
            "nbconvert_exporter": "python",
            "pygments_lexer": "ipython3",
            "version": "3.6.9"
        }
    },
    "nbformat": 4,
    "nbformat_minor": 1
}